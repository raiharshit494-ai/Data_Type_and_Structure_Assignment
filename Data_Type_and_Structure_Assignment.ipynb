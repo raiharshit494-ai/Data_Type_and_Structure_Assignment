{
  "nbformat": 4,
  "nbformat_minor": 0,
  "metadata": {
    "colab": {
      "provenance": []
    },
    "kernelspec": {
      "name": "python3",
      "display_name": "Python 3"
    },
    "language_info": {
      "name": "python"
    }
  },
  "cells": [
    {
      "cell_type": "markdown",
      "source": [
        "Data Types and Structures\n",
        "Assignment Questions"
      ],
      "metadata": {
        "id": "_A8cBdYLrC2a"
      }
    },
    {
      "cell_type": "markdown",
      "source": [
        "Q1.What are Data structure and why they are important?\n",
        "\n",
        "Ans. Data structure are the way of organising, managing, and storing data that are enable efficient and access modification.They are important because they optimize the performance, manage large data, and provide abstract way to present the data allowing programs to focus on the logic without worrying about the low level memory detail.\n",
        "\n",
        "Q2. Explain the difference between mutable and immutable data types with examples.\n",
        "\n",
        "Mutable files can be modified in place after creation for example- Lists\n",
        "\n",
        "List = [1,2,3]\n",
        "\n",
        "List.append(4)\n",
        "\n",
        "List = [1,2,3,4]\n",
        "\n",
        "whereas, Immutable data cnnot be modified once it will be created for example- strings and tuples.\n",
        "\n",
        "my_string = \"hello\"\n",
        "new_string = my_string + \" world\" # Creates a *new* string object\n",
        "# my_string is still \"hello\"\n",
        "\n",
        "Q3. What are the main differences between lists and tuples in Python?\n",
        "\n",
        "Ans. Lists: Lists are mutable, their syntax is square brackets, they are slower in performance, it can be used in collection of items like stake, queue, general collections. Whereas, Tuples are immutable in nature, their syntax is parenthesesand it is faster in performance theri use cases is collections of related, fixed items (e.g., coordinates, database records).\n",
        "\n",
        "Q4. Describe how dictionaries store data?\n",
        "\n",
        "Ans. Dictionaries store data as key-value pairs. Each key must be unique and immutable and it's used to look up its value. The key-value pairs are stored in a way that allows for very fast retrieval, typically using a concept called hashing.\n",
        "\n",
        "Q5. Why might you use a set instead of a list in Python?\n",
        "\n",
        "Ans. Yes, I can use sets instead of lists in Python. instead I need to discard the duplicate values automatically an to perform mathematical sets operation like, union intersection and differences.\n",
        "\n",
        "Q6. What is a string in Python, and how is it different from a list?\n",
        "\n",
        "Ans. A string is an immutable sequence of characters used to represent text data\n",
        "strings are immutable and generally contain only characters. Whereas, Lists are the collection of arbitrary items can be changed and contain different types of data.\n",
        "\n",
        "Q7. How do tuples ensure data integrity in Python?\n",
        "\n",
        "Ans. Tuples ensures data integrity because they are immutable. Once a tuple is created, its size and element values cannot be modified. This prevents accidental modification of data that shouldn't be altered, which is essential for data integrity, particularly when passing data between different parts of a Program or use it as a dictionary key.\n",
        "\n",
        "Q8. What is a hash table, and how does it relate to dictionaries in Python?\n",
        "\n",
        "Ans. A hash table is a data structure that implements an associative array abstract data type, a structure that makes data type, a structure that can make keys to values. It is related to dictionary as the dictionaries are implemented using a hash table. The key we provide is passed to a hash function to quickly determine where its corresponding value is stored in memory.\n",
        "\n",
        "Q9. Can lists contain different data types in Python?\n",
        "\n",
        "Ans. Yes Lists can contain different data types like - mylist = [\"Harshit\", 1, 1.5, True]\n",
        "\n",
        "Q10. Explain why strings are immutable in Python?\n",
        "\n",
        "Ans. Strings are imutable in python for performance, avoiding accidental changes, and hashing(neede for using string as dictionary keys)\n",
        "\n",
        "Q11. What advantages do dictionaries offer over lists for certain tasks?\n",
        "\n",
        "Ans. The advantages dictionaries offer over lists for certain task is-\n",
        "\n",
        "more effient data mapping, descriptive data access via name keys, faster lookups.\n",
        "\n",
        "Q12. How do sets handle duplicate values in Python?\n",
        "\n",
        "Ans. Sets handle duplicates by removing it for ex-\n",
        "\n",
        "set[(1,2,3,3,4,4,5)] it will results- {1,2,3,4,5}\n",
        "\n",
        "Q13. How does the “in” keyword work differently for lists and dictionaries?\n",
        "\n",
        "Ans. The in keyword in list checks the values assigned whereas in dictionaries it deaals with the keys assigned.\n",
        "\n",
        "Q14. Can you modify the elements of a tuple? Explain why or why not.\n",
        "\n",
        "Ans. No, we can't modify the elements of tuples as they are immutable and once created, their elements can't be changed.\n",
        "\n",
        "Q15. What is a nested dictionary, and give an example of its use case?\n",
        "\n",
        "Ans.A nested dictionary is a dictionary under the dictionary.\n",
        "\n",
        "for ex- students = {\n",
        "    \"001\": {\"name\": \"Alice\", \"grade\": \"A\"},\n",
        "    \"002\": {\"name\": \"Bob\", \"grade\": \"B\"}\n",
        "}\n",
        "\n",
        "Q16. Describe the time complexity of accessing elements in a dictionary?\n",
        "\n",
        "Ans. Average time complexity: O(1) (constant time)\n",
        "Worst-case (rare due to hash collisions): O(n)\n",
        "\n",
        "Q17. In what situations are lists preferred over dictionaries?\n",
        "\n",
        "Ans. Use lists when: Order matters,You need sequential access\n",
        "and Keys aren't needed, just a collection of items.\n",
        "\n",
        "Q18. Why are dictionaries considered unordered, and how does that affect data retrieval?\n",
        "\n",
        "Ans. Before Python 3.7, dictionaries were unordered.\n",
        "Since Python 3.7+, they preserve insertion order, but are still optimized for key-based access, not sequential access like lists.\n",
        "\n",
        "Q19. Explain the difference between a list and a dictionary in terms of data retrieval.\n",
        "\n",
        "Ans. List: Access by index (e.g., my_list[0])\n",
        "\n",
        "Dictionary: Access by key (e.g., my_dict[\"name\"])\n",
        "\n",
        "Dictionaries are faster for lookup by key (O(1)), while lists require searching (O(n)).\n",
        "\n"
      ],
      "metadata": {
        "id": "DLzy9VPbfe65"
      }
    },
    {
      "cell_type": "markdown",
      "source": [
        "Practical Questions:"
      ],
      "metadata": {
        "id": "ANgVixURh-ur"
      }
    },
    {
      "cell_type": "code",
      "source": [
        "# Q1: Write a code to create a string with your name and print it.\n",
        "my_name = \"Harshit\"\n",
        "print(my_name)"
      ],
      "metadata": {
        "colab": {
          "base_uri": "https://localhost:8080/"
        },
        "id": "HWe0j6MKiFUb",
        "outputId": "2ad9c51f-1e0e-43df-ce4c-07c836f1458a"
      },
      "execution_count": 2,
      "outputs": [
        {
          "output_type": "stream",
          "name": "stdout",
          "text": [
            "Harshit\n"
          ]
        }
      ]
    },
    {
      "cell_type": "code",
      "source": [
        "# Q2: Write a code to find the length of the string \"Hello World\".\n",
        "my_string = \"Hello World\"\n",
        "print(len(my_string))"
      ],
      "metadata": {
        "colab": {
          "base_uri": "https://localhost:8080/"
        },
        "id": "b1NE3p-yidqV",
        "outputId": "91312522-9a8c-46b7-ded3-c4ecb9be0f27"
      },
      "execution_count": 3,
      "outputs": [
        {
          "output_type": "stream",
          "name": "stdout",
          "text": [
            "11\n"
          ]
        }
      ]
    },
    {
      "cell_type": "code",
      "source": [
        "# Q3: P Write a code to slice the first 3 characters from the string \"Python Programming\"\n",
        "my_string = \"Python Programming\"\n",
        "print(my_string[:3])"
      ],
      "metadata": {
        "colab": {
          "base_uri": "https://localhost:8080/"
        },
        "id": "EWAVeF-ZiplT",
        "outputId": "39cdc423-95cd-45f2-a27e-ddb9370aa4c1"
      },
      "execution_count": 4,
      "outputs": [
        {
          "output_type": "stream",
          "name": "stdout",
          "text": [
            "Pyt\n"
          ]
        }
      ]
    },
    {
      "cell_type": "code",
      "source": [
        "# Q4: Write a code to convert the string \"hello\" to uppercase.\n",
        "my_string = \"hello\"\n",
        "print(my_string.upper())\n"
      ],
      "metadata": {
        "colab": {
          "base_uri": "https://localhost:8080/"
        },
        "id": "Fpp0ee4hi2Ph",
        "outputId": "844bd7bd-db2d-4177-a377-8e3eb57bf72d"
      },
      "execution_count": 6,
      "outputs": [
        {
          "output_type": "stream",
          "name": "stdout",
          "text": [
            "HELLO\n"
          ]
        }
      ]
    },
    {
      "cell_type": "code",
      "source": [
        "# Q5: Write a code to replace the word \"apple\" with \"orange\" in the string \"I like apple\".\n",
        "my_string = \"I like apple\"\n",
        "print(my_string.replace(\"apple\", \"orange\"))"
      ],
      "metadata": {
        "colab": {
          "base_uri": "https://localhost:8080/"
        },
        "id": "mms5CtcgjHRu",
        "outputId": "b8d390b1-b1fd-47d0-dea2-39a4836894ad"
      },
      "execution_count": 7,
      "outputs": [
        {
          "output_type": "stream",
          "name": "stdout",
          "text": [
            "I like orange\n"
          ]
        }
      ]
    },
    {
      "cell_type": "code",
      "source": [
        "# Q6: Write a code to create a list with numbers 1 to 5 and print it.\n",
        "my_list = [1,2,3,4,5]\n",
        "print(my_list)"
      ],
      "metadata": {
        "colab": {
          "base_uri": "https://localhost:8080/"
        },
        "id": "6wHrY_FXjaRL",
        "outputId": "6d03e84b-3176-4695-f351-1b2d8c9ae30d"
      },
      "execution_count": 8,
      "outputs": [
        {
          "output_type": "stream",
          "name": "stdout",
          "text": [
            "[1, 2, 3, 4, 5]\n"
          ]
        }
      ]
    },
    {
      "cell_type": "code",
      "source": [
        "# Q7: P Write a code to append the number 10 to the list [1, 2, 3, 4].\n",
        "my_list = [1,2,3,4]\n",
        "my_list.append(10)\n",
        "print(my_list)"
      ],
      "metadata": {
        "colab": {
          "base_uri": "https://localhost:8080/"
        },
        "id": "Z21mU6KSjkLx",
        "outputId": "5f6f0a33-61e7-46ae-afe6-ff2ed0b2e6e1"
      },
      "execution_count": 9,
      "outputs": [
        {
          "output_type": "stream",
          "name": "stdout",
          "text": [
            "[1, 2, 3, 4, 10]\n"
          ]
        }
      ]
    },
    {
      "cell_type": "code",
      "source": [
        "# Q8: Write a code to remove the number 3 from the list [1, 2, 3, 4, 5].\n",
        "my_list = [1,2,3,4,5]\n",
        "my_list.remove(3)\n",
        "print(my_list)"
      ],
      "metadata": {
        "colab": {
          "base_uri": "https://localhost:8080/"
        },
        "id": "GlH0V5Ccjs1N",
        "outputId": "8bb42c44-eff7-4e0f-ddc7-1c465654ba8e"
      },
      "execution_count": 10,
      "outputs": [
        {
          "output_type": "stream",
          "name": "stdout",
          "text": [
            "[1, 2, 4, 5]\n"
          ]
        }
      ]
    },
    {
      "cell_type": "code",
      "source": [
        "# Q9: Write a code to access the second element in the list ['a', 'b', 'c', 'd'].\n",
        "my_list = ['a', 'b', 'c', 'd']\n",
        "print(my_list[1])"
      ],
      "metadata": {
        "colab": {
          "base_uri": "https://localhost:8080/"
        },
        "id": "WtJXbTcxj4dK",
        "outputId": "74572561-2357-4675-8df8-ff34db7fb7de"
      },
      "execution_count": 11,
      "outputs": [
        {
          "output_type": "stream",
          "name": "stdout",
          "text": [
            "b\n"
          ]
        }
      ]
    },
    {
      "cell_type": "code",
      "source": [
        "# Q10: Write a code to reverse the list [10, 20, 30, 40, 50].\n",
        "my_list = [10, 20, 30, 40, 50]\n",
        "print(my_list[::-1])"
      ],
      "metadata": {
        "colab": {
          "base_uri": "https://localhost:8080/"
        },
        "id": "c95dmVzBkXUT",
        "outputId": "94b0c630-5c8b-494e-c631-c2eb30949f08"
      },
      "execution_count": 12,
      "outputs": [
        {
          "output_type": "stream",
          "name": "stdout",
          "text": [
            "[50, 40, 30, 20, 10]\n"
          ]
        }
      ]
    },
    {
      "cell_type": "code",
      "source": [
        "# Q11:  Write a code to create a tuple with the elements 100, 200, 300 and print it.\n",
        "my_tuple = (100,200,300)\n",
        "print(my_tuple)\n",
        "type(my_tuple)\n"
      ],
      "metadata": {
        "colab": {
          "base_uri": "https://localhost:8080/"
        },
        "id": "Uh3xVDw5kmNp",
        "outputId": "1b3f4768-f0f4-4689-f65d-06a24820677e"
      },
      "execution_count": 16,
      "outputs": [
        {
          "output_type": "stream",
          "name": "stdout",
          "text": [
            "(100, 200, 300)\n"
          ]
        },
        {
          "output_type": "execute_result",
          "data": {
            "text/plain": [
              "tuple"
            ]
          },
          "metadata": {},
          "execution_count": 16
        }
      ]
    },
    {
      "cell_type": "code",
      "source": [
        "# Q12: Write a code to access the second-to-last element of the tuple ('red', 'green', 'blue', 'yellow').\n",
        "my_tuple = ('red', 'green', 'blue', 'yellow')\n",
        "print(my_tuple[-2])"
      ],
      "metadata": {
        "colab": {
          "base_uri": "https://localhost:8080/"
        },
        "id": "m7b4quVLk2VV",
        "outputId": "a29fc57e-ce1c-4d3d-cf65-85e87702dec3"
      },
      "execution_count": 17,
      "outputs": [
        {
          "output_type": "stream",
          "name": "stdout",
          "text": [
            "blue\n"
          ]
        }
      ]
    },
    {
      "cell_type": "code",
      "source": [
        "# Q13:  Write a code to find the minimum number in the tuple (10, 20, 5, 15).\n",
        "my_tuple = (10, 20, 5, 15)\n",
        "print(min(my_tuple))\n"
      ],
      "metadata": {
        "colab": {
          "base_uri": "https://localhost:8080/"
        },
        "id": "yp5l71HHlIBl",
        "outputId": "9fead2d1-54d9-49dd-9cd1-92f929298800"
      },
      "execution_count": 18,
      "outputs": [
        {
          "output_type": "stream",
          "name": "stdout",
          "text": [
            "5\n"
          ]
        }
      ]
    },
    {
      "cell_type": "code",
      "source": [
        "# Q14:  Write a code to find the index of the element \"cat\" in the tuple ('dog', 'cat', 'rabbit').\n",
        "my_tuple = ('dog', 'cat', 'rabbit')\n",
        "print(my_tuple.index('cat'))"
      ],
      "metadata": {
        "colab": {
          "base_uri": "https://localhost:8080/"
        },
        "id": "I4achrqUlYfe",
        "outputId": "135598c6-c30e-4299-ceac-313b1d3fbd2a"
      },
      "execution_count": 19,
      "outputs": [
        {
          "output_type": "stream",
          "name": "stdout",
          "text": [
            "1\n"
          ]
        }
      ]
    },
    {
      "cell_type": "code",
      "source": [
        "# Q15:  Write a code to create a tuple containing three different fruits and check if \"kiwi\" is in it.\n",
        "my_tuple = ('apple', 'banana', 'orange', 'kiwi')\n",
        "print('kiwi' in my_tuple)"
      ],
      "metadata": {
        "colab": {
          "base_uri": "https://localhost:8080/"
        },
        "id": "i-dfzqxulu3X",
        "outputId": "66908690-f364-4be0-d002-420864a1dd38"
      },
      "execution_count": 20,
      "outputs": [
        {
          "output_type": "stream",
          "name": "stdout",
          "text": [
            "True\n"
          ]
        }
      ]
    },
    {
      "cell_type": "code",
      "source": [
        "# Q16:  Write a code to create a set with the elements 'a', 'b', 'c' and print it.\n",
        "my_set = {'a', 'b', 'c'}\n",
        "print(my_set)"
      ],
      "metadata": {
        "colab": {
          "base_uri": "https://localhost:8080/"
        },
        "id": "96aVUlNomDqz",
        "outputId": "e1512e05-361b-428a-e35b-9d291277f597"
      },
      "execution_count": 22,
      "outputs": [
        {
          "output_type": "stream",
          "name": "stdout",
          "text": [
            "{'b', 'a', 'c'}\n"
          ]
        }
      ]
    },
    {
      "cell_type": "code",
      "source": [
        "# Q17: Write a code to clear all elements from the set {1, 2, 3, 4, 5}.\n",
        "my_set = {1, 2, 3, 4, 5}\n",
        "my_set.clear()\n",
        "print(my_set)"
      ],
      "metadata": {
        "colab": {
          "base_uri": "https://localhost:8080/"
        },
        "id": "KCH2rfJZnBDu",
        "outputId": "ef04c3ea-36f2-45ed-dd9f-a60de5343d1a"
      },
      "execution_count": 23,
      "outputs": [
        {
          "output_type": "stream",
          "name": "stdout",
          "text": [
            "set()\n"
          ]
        }
      ]
    },
    {
      "cell_type": "code",
      "source": [
        "# Q18:  Write a code to remove the element 4 from the set {1, 2, 3, 4}.\n",
        "my_set = {1, 2, 3, 4}\n",
        "my_set.remove(4)\n",
        "print(my_set)"
      ],
      "metadata": {
        "colab": {
          "base_uri": "https://localhost:8080/"
        },
        "id": "VXC0TFg9nUZd",
        "outputId": "9ecb2aee-0c10-41a4-8dde-2a1e3f54571b"
      },
      "execution_count": 24,
      "outputs": [
        {
          "output_type": "stream",
          "name": "stdout",
          "text": [
            "{1, 2, 3}\n"
          ]
        }
      ]
    },
    {
      "cell_type": "code",
      "source": [
        "# Q19:  Write a code to find the union of two sets {1, 2, 3} and {3, 4, 5}.\n",
        "set1 = {1, 2, 3}\n",
        "set2 = {3, 4, 5}\n",
        "union_set = set1.union(set2)\n",
        "print(union_set)"
      ],
      "metadata": {
        "colab": {
          "base_uri": "https://localhost:8080/"
        },
        "id": "EouQx73Vnbze",
        "outputId": "c6beb5c9-b89f-4222-e95b-be931e384804"
      },
      "execution_count": 25,
      "outputs": [
        {
          "output_type": "stream",
          "name": "stdout",
          "text": [
            "{1, 2, 3, 4, 5}\n"
          ]
        }
      ]
    },
    {
      "cell_type": "code",
      "source": [
        "# Q20:  Write a code to find the intersection of two sets {1, 2, 3} and {2, 3, 4}.\n",
        "set1 = {1, 2, 3}\n",
        "set2 = {2, 3, 4}\n",
        "intersection_set = set1.intersection(set2)\n",
        "print(intersection_set)"
      ],
      "metadata": {
        "colab": {
          "base_uri": "https://localhost:8080/"
        },
        "id": "0gCnINrKnxWv",
        "outputId": "acd4fe09-4552-4e74-f4f1-1efd5d9719c4"
      },
      "execution_count": 26,
      "outputs": [
        {
          "output_type": "stream",
          "name": "stdout",
          "text": [
            "{2, 3}\n"
          ]
        }
      ]
    },
    {
      "cell_type": "code",
      "source": [
        "# Q21: . Write a code to create a dictionary with the keys \"name\", \"age\", and \"city\", and print it.\n",
        "my_dict = {\"name\": \"Harshit\", \"age\": 20, \"city\": \"Delhi\"}\n",
        "print(my_dict)"
      ],
      "metadata": {
        "colab": {
          "base_uri": "https://localhost:8080/"
        },
        "id": "RpBNMqr-n9el",
        "outputId": "ea9936a1-dd2b-4541-ff93-abfac43866ac"
      },
      "execution_count": 27,
      "outputs": [
        {
          "output_type": "stream",
          "name": "stdout",
          "text": [
            "{'name': 'Harshit', 'age': 20, 'city': 'Delhi'}\n"
          ]
        }
      ]
    },
    {
      "cell_type": "code",
      "source": [
        "# Q22: Write a code to add a new key-value pair \"country\": \"USA\" to the dictionary {'name': 'John', 'age': 25}\n",
        "my_dict = {'name': 'John', 'age': 25}\n",
        "my_dict['country'] = 'USA'\n",
        "print(my_dict)"
      ],
      "metadata": {
        "colab": {
          "base_uri": "https://localhost:8080/"
        },
        "id": "cH11hX3ioiKV",
        "outputId": "8bbc76c4-ca0a-46c8-fc0d-3bb26fc23cd1"
      },
      "execution_count": 33,
      "outputs": [
        {
          "output_type": "stream",
          "name": "stdout",
          "text": [
            "{'name': 'John', 'age': 25, 'country': 'USA'}\n"
          ]
        }
      ]
    },
    {
      "cell_type": "code",
      "source": [
        "# Q23:  Write a code to access the value associated with the key \"name\" in the dictionary {'name': 'Alice', 'age': 30}.\n",
        "my_dict = {'name': 'Alice', 'age': 30}\n",
        "print(my_dict['name'])"
      ],
      "metadata": {
        "colab": {
          "base_uri": "https://localhost:8080/"
        },
        "id": "ujLGBj2Io6n4",
        "outputId": "9435bd5b-d10e-44f3-bcc5-6eb647b6812e"
      },
      "execution_count": 34,
      "outputs": [
        {
          "output_type": "stream",
          "name": "stdout",
          "text": [
            "Alice\n"
          ]
        }
      ]
    },
    {
      "cell_type": "code",
      "source": [
        "# Q24:  Write a code to remove the key \"age\" from the dictionary {'name': 'Bob', 'age': 22, 'city': 'New York'}.\n",
        "my_dict = {'name': 'Bob', 'age': 22, 'city': 'New York'}\n",
        "del my_dict['age']\n",
        "print(my_dict)"
      ],
      "metadata": {
        "colab": {
          "base_uri": "https://localhost:8080/"
        },
        "id": "8KZWUavfpDnG",
        "outputId": "645459e0-e211-4f40-c85d-fbb0fab5a8d5"
      },
      "execution_count": 35,
      "outputs": [
        {
          "output_type": "stream",
          "name": "stdout",
          "text": [
            "{'name': 'Bob', 'city': 'New York'}\n"
          ]
        }
      ]
    },
    {
      "cell_type": "code",
      "source": [
        "# Q25:  Write a code to check if the key \"city\" exists in the dictionary {'name': 'Alice', 'city': 'Paris'}.\n",
        "my_dict = {'name': 'Alice', 'city': 'Paris'}\n",
        "print('city' in my_dict)"
      ],
      "metadata": {
        "colab": {
          "base_uri": "https://localhost:8080/"
        },
        "id": "PrjQJ2JvpPIW",
        "outputId": "1db808d7-6a40-4ccf-84a7-34c7e1841cae"
      },
      "execution_count": 36,
      "outputs": [
        {
          "output_type": "stream",
          "name": "stdout",
          "text": [
            "True\n"
          ]
        }
      ]
    },
    {
      "cell_type": "code",
      "source": [
        "# Q26:  Write a code to create a list, a tuple, and a dictionary, and print them all.\n",
        "my_list = [1,2,3]\n",
        "my_tuple = (1,2,3)\n",
        "my_dict = {\"name\": \"Harshit\", \"age\": 20, \"city\": \"Delhi\"}\n",
        "print(my_list)\n",
        "print(my_tuple)\n",
        "print(my_dict)"
      ],
      "metadata": {
        "colab": {
          "base_uri": "https://localhost:8080/"
        },
        "id": "ddQfPwLepXwR",
        "outputId": "2d129c96-065f-4cd1-9a2e-e4f9ac1002bd"
      },
      "execution_count": 38,
      "outputs": [
        {
          "output_type": "stream",
          "name": "stdout",
          "text": [
            "[1, 2, 3]\n",
            "(1, 2, 3)\n",
            "{'name': 'Harshit', 'age': 20, 'city': 'Delhi'}\n"
          ]
        }
      ]
    },
    {
      "cell_type": "code",
      "source": [
        "# Q27:  Write a code to create a list of 5 random numbers between 1 and 100, sort it in ascending order, and print the result.\n",
        "my_list = [1,15,65,74,25]\n",
        "my_list.sort()\n",
        "print(my_list)"
      ],
      "metadata": {
        "colab": {
          "base_uri": "https://localhost:8080/"
        },
        "id": "Fd2rVKWopepY",
        "outputId": "af1d7f36-58ee-4e4b-9ae0-00027d3345f1"
      },
      "execution_count": 39,
      "outputs": [
        {
          "output_type": "stream",
          "name": "stdout",
          "text": [
            "[1, 15, 25, 65, 74]\n"
          ]
        }
      ]
    },
    {
      "cell_type": "code",
      "source": [
        "# Q28: Write a code to create a list with strings and print the element at the third index.\n",
        "my_list = [\"apple\", \"banana\", \"orange\", \"kiwi\", \"mango\"]\n",
        "print(my_list[3])"
      ],
      "metadata": {
        "colab": {
          "base_uri": "https://localhost:8080/"
        },
        "id": "hUBsdnfKqDQ0",
        "outputId": "f7a6fb8a-b5a2-42d3-f41a-a0705be4e4e2"
      },
      "execution_count": 40,
      "outputs": [
        {
          "output_type": "stream",
          "name": "stdout",
          "text": [
            "kiwi\n"
          ]
        }
      ]
    },
    {
      "cell_type": "code",
      "source": [
        "# Q29:  Write a code to combine two dictionaries into one and print the result.\n",
        "dict1 = {'a': 1, 'b': 2}\n",
        "dict2 = {'c': 3, 'd': 4}\n",
        "combined_dict = {**dict1, **dict2}\n",
        "print(combined_dict)"
      ],
      "metadata": {
        "colab": {
          "base_uri": "https://localhost:8080/"
        },
        "id": "yUKyJCUKqQ4t",
        "outputId": "4c78abbc-656b-410a-c250-2e0c47fb52d3"
      },
      "execution_count": 41,
      "outputs": [
        {
          "output_type": "stream",
          "name": "stdout",
          "text": [
            "{'a': 1, 'b': 2, 'c': 3, 'd': 4}\n"
          ]
        }
      ]
    },
    {
      "cell_type": "code",
      "source": [
        "# Q30:  Write a code to convert a list of strings into a set.\n",
        "my_list = [\"apple\", \"banana\", \"orange\", \"apple\"]\n",
        "my_set = set(my_list)\n",
        "print(my_set)"
      ],
      "metadata": {
        "colab": {
          "base_uri": "https://localhost:8080/"
        },
        "id": "hCs_JGcRqayc",
        "outputId": "f4a4a52f-add3-4409-e607-929c92cd011c"
      },
      "execution_count": 42,
      "outputs": [
        {
          "output_type": "stream",
          "name": "stdout",
          "text": [
            "{'apple', 'orange', 'banana'}\n"
          ]
        }
      ]
    },
    {
      "cell_type": "code",
      "source": [],
      "metadata": {
        "id": "OmJMJf8vqqqL"
      },
      "execution_count": null,
      "outputs": []
    }
  ]
}